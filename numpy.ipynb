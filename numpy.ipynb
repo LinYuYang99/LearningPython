{
 "cells": [
  {
   "cell_type": "code",
   "execution_count": 5,
   "id": "1c289683-ab67-4dd6-b8a4-bc5e3de670ce",
   "metadata": {},
   "outputs": [],
   "source": [
    "import numpy"
   ]
  },
  {
   "cell_type": "code",
   "execution_count": null,
   "id": "6ab1b48f-ecc0-4a20-b297-50a03965a9c7",
   "metadata": {},
   "outputs": [],
   "source": [
    "numpy.loadtxt(fname=\"data/inflammation-01.csv\",delimiter=',')"
   ]
  },
  {
   "cell_type": "code",
   "execution_count": 6,
   "id": "ede73450-6f5c-4f80-ae9c-868f6788b5e0",
   "metadata": {},
   "outputs": [],
   "source": [
    "ar= numpy.loadtxt(fname=\"data/inflammation-01.csv\",delimiter=',')"
   ]
  },
  {
   "cell_type": "code",
   "execution_count": 7,
   "id": "5b420a20-4670-4ea7-ad7b-1d7799bae88d",
   "metadata": {},
   "outputs": [
    {
     "name": "stdout",
     "output_type": "stream",
     "text": [
      "a: 0.0\n"
     ]
    }
   ],
   "source": [
    "print(\"a:\",ar[0][0])"
   ]
  },
  {
   "cell_type": "code",
   "execution_count": 8,
   "id": "af84e3dd-d32e-4557-a84b-fa3ac4af2629",
   "metadata": {},
   "outputs": [
    {
     "name": "stdout",
     "output_type": "stream",
     "text": [
      "[[2. 3. 0. 0.]\n",
      " [1. 1. 0. 1.]\n",
      " [2. 2. 1. 1.]]\n"
     ]
    }
   ],
   "source": [
    "co = ar[:3, 36:]\n",
    "print(co)"
   ]
  },
  {
   "cell_type": "markdown",
   "id": "7f9f16db-c480-4665-9b82-2eacc80b2d78",
   "metadata": {},
   "source": [
    "#EX"
   ]
  },
  {
   "cell_type": "markdown",
   "id": "bf9ac2f9-84d9-4d16-960f-03626dbd767f",
   "metadata": {},
   "source": [
    "#ffg"
   ]
  },
  {
   "cell_type": "raw",
   "id": "ba20496b-b969-4061-a6cb-8c30d287f740",
   "metadata": {
    "tags": []
   },
   "source": [
    "#44"
   ]
  },
  {
   "cell_type": "code",
   "execution_count": 10,
   "id": "d1e5dc7d-863e-4000-9456-7d7b816039df",
   "metadata": {},
   "outputs": [
    {
     "name": "stdout",
     "output_type": "stream",
     "text": [
      "(60,)\n"
     ]
    }
   ],
   "source": [
    "print(ar.max(axis=1).shape)\n"
   ]
  },
  {
   "cell_type": "code",
   "execution_count": 11,
   "id": "921c603d-2a6d-4e6e-af51-7e8a7d35f344",
   "metadata": {},
   "outputs": [
    {
     "name": "stdout",
     "output_type": "stream",
     "text": [
      "[18. 18. 19. 17. 17. 18. 17. 20. 17. 18. 18. 18. 17. 16. 17. 18. 19. 19.\n",
      " 17. 19. 19. 16. 17. 15. 17. 17. 18. 17. 20. 17. 16. 19. 15. 15. 19. 17.\n",
      " 16. 17. 19. 16. 18. 19. 16. 19. 18. 16. 19. 15. 16. 18. 14. 20. 17. 15.\n",
      " 17. 16. 17. 19. 18. 18.]\n"
     ]
    }
   ],
   "source": [
    "print(ar.max(axis=1))"
   ]
  },
  {
   "cell_type": "code",
   "execution_count": 12,
   "id": "6b18289d-21d2-4d75-a043-92095fe7ddea",
   "metadata": {},
   "outputs": [
    {
     "name": "stdout",
     "output_type": "stream",
     "text": [
      "[ 0.  1.  2.  3.  4.  5.  6.  7.  8.  9. 10. 11. 12. 13. 14. 15. 16. 17.\n",
      " 18. 19. 20. 19. 18. 17. 16. 15. 14. 13. 12. 11. 10.  9.  8.  7.  6.  5.\n",
      "  4.  3.  2.  1.]\n"
     ]
    }
   ],
   "source": [
    "print(ar.max(axis=0))"
   ]
  }
 ],
 "metadata": {
  "kernelspec": {
   "display_name": "Python 3 (ipykernel)",
   "language": "python",
   "name": "python3"
  },
  "language_info": {
   "codemirror_mode": {
    "name": "ipython",
    "version": 3
   },
   "file_extension": ".py",
   "mimetype": "text/x-python",
   "name": "python",
   "nbconvert_exporter": "python",
   "pygments_lexer": "ipython3",
   "version": "3.9.12"
  }
 },
 "nbformat": 4,
 "nbformat_minor": 5
}
