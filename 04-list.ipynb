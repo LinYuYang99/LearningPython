{
 "cells": [
  {
   "cell_type": "code",
   "execution_count": 1,
   "id": "d05fbedd-f071-457f-b171-473019bbf25b",
   "metadata": {},
   "outputs": [
    {
     "name": "stdout",
     "output_type": "stream",
     "text": [
      "Odds are [1, 3, 5, 7]\n"
     ]
    }
   ],
   "source": [
    "odds = [1,3,5,7]\n",
    "print('Odds are', odds)"
   ]
  },
  {
   "cell_type": "code",
   "execution_count": 2,
   "id": "215eabd8-37e7-41bb-bc08-115c713db079",
   "metadata": {},
   "outputs": [
    {
     "name": "stdout",
     "output_type": "stream",
     "text": [
      "kk 1\n"
     ]
    }
   ],
   "source": [
    "print(\"kk\",odds[0])"
   ]
  },
  {
   "cell_type": "code",
   "execution_count": 9,
   "id": "91057c84-14a4-4004-8829-e8f9f0542765",
   "metadata": {},
   "outputs": [
    {
     "name": "stdout",
     "output_type": "stream",
     "text": [
      "kk 7\n"
     ]
    }
   ],
   "source": [
    "print(\"kk\",odds[-1])"
   ]
  },
  {
   "cell_type": "code",
   "execution_count": 10,
   "id": "409b19ad-34fa-413c-9d19-647a87875fa1",
   "metadata": {},
   "outputs": [
    {
     "name": "stdout",
     "output_type": "stream",
     "text": [
      "kk [1, 5]\n"
     ]
    }
   ],
   "source": [
    "print(\"kk\",odds[0::2])"
   ]
  },
  {
   "cell_type": "code",
   "execution_count": 11,
   "id": "ff8b8628-cace-4dd2-a269-ce71e1383843",
   "metadata": {},
   "outputs": [
    {
     "name": "stdout",
     "output_type": "stream",
     "text": [
      "gg\n"
     ]
    }
   ],
   "source": [
    "name=\"gg\"\n",
    "print(name)"
   ]
  },
  {
   "cell_type": "code",
   "execution_count": 13,
   "id": "46f969c4-81aa-4520-a169-798dee41d5b9",
   "metadata": {},
   "outputs": [],
   "source": [
    "s='observation data: 02-Feb-2013'"
   ]
  },
  {
   "cell_type": "code",
   "execution_count": 18,
   "id": "673dcdd2-a912-42bc-96e9-d1ff308a1326",
   "metadata": {},
   "outputs": [
    {
     "name": "stdout",
     "output_type": "stream",
     "text": [
      "29\n"
     ]
    }
   ],
   "source": [
    "print(len(s))"
   ]
  },
  {
   "cell_type": "code",
   "execution_count": 21,
   "id": "80ba7d23-2d1f-4f1a-bb9d-b37227e4fdeb",
   "metadata": {},
   "outputs": [
    {
     "name": "stdout",
     "output_type": "stream",
     "text": [
      "2013\n"
     ]
    }
   ],
   "source": [
    "print(s[-4:])"
   ]
  },
  {
   "cell_type": "code",
   "execution_count": 24,
   "id": "986f7cf7-56b7-42cf-b880-ff095418242b",
   "metadata": {},
   "outputs": [
    {
     "name": "stdout",
     "output_type": "stream",
     "text": [
      "[1, 2, 1, 2]\n"
     ]
    }
   ],
   "source": [
    "c=[1,2]\n",
    "print(c*2)"
   ]
  }
 ],
 "metadata": {
  "kernelspec": {
   "display_name": "Python 3 (ipykernel)",
   "language": "python",
   "name": "python3"
  },
  "language_info": {
   "codemirror_mode": {
    "name": "ipython",
    "version": 3
   },
   "file_extension": ".py",
   "mimetype": "text/x-python",
   "name": "python",
   "nbconvert_exporter": "python",
   "pygments_lexer": "ipython3",
   "version": "3.9.12"
  }
 },
 "nbformat": 4,
 "nbformat_minor": 5
}
